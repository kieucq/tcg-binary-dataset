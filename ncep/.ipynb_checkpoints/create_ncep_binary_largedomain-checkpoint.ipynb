{
 "cells": [
  {
   "cell_type": "code",
   "execution_count": 1,
   "id": "13f13e63",
   "metadata": {},
   "outputs": [],
   "source": [
    "import pandas as pd\n",
    "import math\n",
    "import numpy as np\n",
    "import matplotlib.pyplot as plt\n",
    "import os"
   ]
  },
  {
   "cell_type": "code",
   "execution_count": 2,
   "id": "7f7aeb14",
   "metadata": {},
   "outputs": [
    {
     "name": "stdout",
     "output_type": "stream",
     "text": [
      "  Genesis                                               Path\n",
      "0     neg  /N/slate/ckieu/tmp/output/2020/fnl_20200918_00...\n",
      "1     neg  /N/slate/ckieu/tmp/output/2020/fnl_20200918_06...\n",
      "2     neg  /N/slate/ckieu/tmp/output/2020/fnl_20200918_12...\n",
      "3     neg  /N/slate/ckieu/tmp/output/2020/fnl_20200918_18...\n",
      "4     neg  /N/slate/ckieu/tmp/output/2020/fnl_20200919_00...\n"
     ]
    }
   ],
   "source": [
    "#\n",
    "# reading CSV data \n",
    "#\n",
    "datain_path='/N/slate/ckieu/tmp/output/2020/'\n",
    "dataout_path='/N/slate/ckieu/tmp/output/2020_binary/'\n",
    "df_train = pd.read_csv(datain_path+'tc_0h_train.csv')\n",
    "df_val = pd.read_csv(datain_path+'tc_0h_val.csv')\n",
    "df_test = pd.read_csv(datain_path+'tc_0h_test.csv')\n",
    "df_train.replace(False,'neg', inplace=True)\n",
    "df_train.replace(True,'pos', inplace=True)\n",
    "data_train_full=df_train[['Genesis','Path']]\n",
    "train_label = list(data_train_full['Genesis'])\n",
    "train_file = list(data_train_full['Path'])\n",
    "\n",
    "df_test.replace(False,'neg', inplace=True)\n",
    "df_test.replace(True,'pos', inplace=True)\n",
    "data_test_full=df_test[['Genesis','Path']]\n",
    "test_label = list(data_test_full['Genesis'])\n",
    "test_file = list(data_test_full['Path'])\n",
    "\n",
    "df_val.replace(False,'neg', inplace=True)\n",
    "df_val.replace(True,'pos', inplace=True)\n",
    "data_val_full=df_val[['Genesis','Path']]\n",
    "val_label = list(data_val_full['Genesis'])\n",
    "val_file = list(data_val_full['Path'])\n",
    "\n",
    "print(data_test_full.head(5))\n",
    "#print(train_label[:5])\n",
    "#print(train_file[:5])"
   ]
  },
  {
   "cell_type": "code",
   "execution_count": 3,
   "id": "7165d16e",
   "metadata": {},
   "outputs": [
    {
     "name": "stdout",
     "output_type": "stream",
     "text": [
      "creating a positive dir: /N/slate/ckieu/tmp/output/2020_binary/pos/\n",
      "creating a negative dir: /N/slate/ckieu/tmp/output/2020_binary/neg/\n",
      "positive dir exists. Skip: /N/slate/ckieu/tmp/output/2020_binary/pos/\n",
      "negative dir exists. Skip: /N/slate/ckieu/tmp/output/2020_binary/neg/\n",
      "positive dir exists. Skip: /N/slate/ckieu/tmp/output/2020_binary/pos/\n",
      "negative dir exists. Skip: /N/slate/ckieu/tmp/output/2020_binary/neg/\n",
      "Done\n"
     ]
    }
   ],
   "source": [
    "def create_binary(data_path,tcg_label,tcg_path):\n",
    "    outputdir_pos=data_path+'pos/'\n",
    "    outputdir_neg=data_path+'neg/'\n",
    "    if os.path.exists(outputdir_pos):\n",
    "        print(\"positive dir exists. Skip:\",outputdir_pos)\n",
    "    else:    \n",
    "        print(\"creating a positive dir:\",outputdir_pos)\n",
    "        os.makedirs(outputdir_pos)    \n",
    "    if os.path.exists(outputdir_neg):\n",
    "        print(\"negative dir exists. Skip:\",outputdir_neg)\n",
    "    else:    \n",
    "        print(\"creating a negative dir:\",outputdir_neg)\n",
    "        os.makedirs(outputdir_neg)    \n",
    "\n",
    "    for i in range(len(tcg_label)):\n",
    "        outfile=tcg_path[i].split(\"/\")[-1] \n",
    "        #print(i,tcg_label[i],outfile)\n",
    "        if tcg_label[i] == \"neg\":                             \n",
    "            os.system('ln -sf ' + tcg_path[i] + ' ' + outputdir_neg+outfile)\n",
    "            #os.symlink(tcg_path[i], outputdir_neg+outfile)\n",
    "        else:\n",
    "            os.system('ln -sf ' + tcg_path[i] + ' ' + outputdir_pos+outfile)\n",
    "            #os.symlink(tcg_path[i], outputdir_pos+outfile)\n",
    "\n",
    "create_binary(dataout_path,train_label,train_file)     \n",
    "create_binary(dataout_path,test_label,test_file)     \n",
    "create_binary(dataout_path,val_label,val_file)     \n",
    "print(\"Done\")"
   ]
  },
  {
   "cell_type": "code",
   "execution_count": null,
   "id": "18659e20",
   "metadata": {},
   "outputs": [],
   "source": []
  }
 ],
 "metadata": {
  "kernelspec": {
   "display_name": "Python 3 (ipykernel)",
   "language": "python",
   "name": "python3"
  },
  "language_info": {
   "codemirror_mode": {
    "name": "ipython",
    "version": 3
   },
   "file_extension": ".py",
   "mimetype": "text/x-python",
   "name": "python",
   "nbconvert_exporter": "python",
   "pygments_lexer": "ipython3",
   "version": "3.10.5"
  }
 },
 "nbformat": 4,
 "nbformat_minor": 5
}
